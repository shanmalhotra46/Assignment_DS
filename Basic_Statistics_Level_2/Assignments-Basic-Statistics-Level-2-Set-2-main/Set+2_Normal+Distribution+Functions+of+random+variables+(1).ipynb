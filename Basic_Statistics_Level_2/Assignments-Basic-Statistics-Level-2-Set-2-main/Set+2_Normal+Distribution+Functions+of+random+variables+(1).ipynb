{
 "cells": [
  {
   "cell_type": "markdown",
   "id": "5f1148d8",
   "metadata": {},
   "source": [
    "#### Q1. The time required for servicing transmissions is normally distributed with mu = 45 minutes and sigma = 8 minutes. The service manager plans to have work begin on the transmission of a customer’s car 10 minutes after the car is dropped off and the customer is told that the car will be ready within 1 hour from drop-off. What is the probability that the service manager cannot meet his commitment? "
   ]
  },
  {
   "cell_type": "code",
   "execution_count": 2,
   "id": "234ab0fd",
   "metadata": {},
   "outputs": [],
   "source": [
    "import numpy as np\n",
    "import pandas as pd\n",
    "import scipy.stats as stats\n",
    "import warnings\n",
    "warnings.filterwarnings('ignore')"
   ]
  },
  {
   "cell_type": "code",
   "execution_count": 29,
   "id": "9c8032ca",
   "metadata": {},
   "outputs": [
    {
     "name": "stdout",
     "output_type": "stream",
     "text": [
      "Probability that the service manager cannot meet his commitment is : 0.26599\n"
     ]
    }
   ],
   "source": [
    "#Given Data\n",
    "'''the serving work will began after 10 min of drop off so 45+10 \n",
    "which will now take more than the usual time so new mu is 55 minutes \n",
    "and the porbbaility that it will take more than 1 hour to complete'''\n",
    "\n",
    "mu = 55\n",
    "sigma = 8\n",
    "prob = stats.norm.sf(60,loc=mu,scale=sigma)\n",
    "print('Probability that the service manager cannot meet his commitment is :',np.round(prob,5))"
   ]
  },
  {
   "cell_type": "markdown",
   "id": "7f6c5ca0",
   "metadata": {},
   "source": [
    "#### Q2. The current age (in years) of 400 clerical employees at an insurance claims processing center is normally distributed with mean = 38 and Standard deviation =6. For each statement below, please specify True/False. If false, briefly explain why.\n",
    "*\tMore employees at the processing center are older than 44 than between 38 and 44.\n",
    "*\tA training program for employees under the age of 30 at the center would be expected to attract about 36 employees.\n"
   ]
  },
  {
   "cell_type": "code",
   "execution_count": 53,
   "id": "8c8fbcc1",
   "metadata": {
    "scrolled": true
   },
   "outputs": [
    {
     "name": "stdout",
     "output_type": "stream",
     "text": [
      "(A) \n",
      "Probability between 44 & 38 is : 0.3413447460685429\n",
      "Probability more than 44 is : 0.15865525393145707\n",
      "More employees at the processing center are older than 44 tha between 38 and 44 is : False\n",
      "\n",
      "(B) A training program for employees under the age of 30 at the center would be expected to attract about 36.0 employees is \"True\"\n"
     ]
    }
   ],
   "source": [
    "# Given Data \n",
    "N = 400\n",
    "mu = 38\n",
    "std = 6\n",
    "lessthan_44 = stats.norm.cdf(44,loc=mu,scale=std)\n",
    "lessthan_38 = stats.norm.cdf(38,loc=mu,scale=std)\n",
    "prob_between_44_and_38 = (lessthan_44 - lessthan_38)\n",
    "morethan_44 = 1 - stats.norm.cdf(44,loc=mu,scale=std)\n",
    "print('(A)','\\nProbability between 44 & 38 is :',prob_between_44_and_38)\n",
    "print('Probability more than 44 is :',morethan_44)\n",
    "print('More employees at the processing center are older than 44 tha between 38 and 44 is :',\n",
    "     morethan_44 > prob_between_44_and_38)\n",
    "\n",
    "under_30 = stats.norm.cdf(30,loc=mu,scale=std)\n",
    "print('\\n(B) A training program for employees under the age of 30 at the center would be expected to attract about',\n",
    "     np.round(under_30*400),'employees is \"True\"')"
   ]
  },
  {
   "cell_type": "markdown",
   "id": "27496e98",
   "metadata": {},
   "source": [
    "#### Q4. Let X ~ N(100, 20^2). Find two values, a and b, symmetric about the mean, such that the probability of the random variable taking a value between them is 0.99. \n",
    "\n",
    "A.\t90.5, 105.9 \n",
    "B.\t80.2, 119.8 \n",
    "C.\t22, 78 \n",
    "D.\t48.5, 151.5 \n",
    "E.\t90.1, 109.9\n"
   ]
  },
  {
   "cell_type": "code",
   "execution_count": 3,
   "id": "2d6ca967",
   "metadata": {},
   "outputs": [
    {
     "name": "stdout",
     "output_type": "stream",
     "text": [
      "The two values a and b symmetric about the mean such that the probability of the random variable taking a value between them is 0.99 is : [ 48. 152.]\n"
     ]
    }
   ],
   "source": [
    "# Given\n",
    "mu = 100\n",
    "std = 20\n",
    "print('The two values a and b symmetric about the mean such that the probability of the random variable taking a value between them is 0.99 is :',np.round(stats.norm.interval(0.99,loc=mu,scale=std)))"
   ]
  },
  {
   "cell_type": "markdown",
   "id": "fc48b481",
   "metadata": {},
   "source": [
    "#### Q5. Consider a company that has two different divisions. The annual profits from the two divisions are independent and have distributions Profit1 ~ N(5, 3^2) and Profit2 ~ N(7, 4^2) respectively. Both the profits are in Million. Answer the following questions about the total profit of the company in Rupees. Assume that 1 = Rs. 45"
   ]
  },
  {
   "cell_type": "code",
   "execution_count": 25,
   "id": "1024b36a",
   "metadata": {},
   "outputs": [],
   "source": [
    "import numpy as np\n",
    "from scipy import stats\n",
    "from scipy.stats import norm"
   ]
  },
  {
   "cell_type": "code",
   "execution_count": 26,
   "id": "bb8e0ea9",
   "metadata": {},
   "outputs": [
    {
     "name": "stdout",
     "output_type": "stream",
     "text": [
      "Mean Profit is Rs 540 Million\n"
     ]
    }
   ],
   "source": [
    "# Mean profits from two different divisions of a company = Mean1 + Mean2\n",
    "Mean = 5+7\n",
    "print('Mean Profit is Rs', Mean*45,'Million')"
   ]
  },
  {
   "cell_type": "code",
   "execution_count": 27,
   "id": "0fc7828f",
   "metadata": {},
   "outputs": [
    {
     "name": "stdout",
     "output_type": "stream",
     "text": [
      "Standard Deviation is Rs 225.0 Million\n"
     ]
    }
   ],
   "source": [
    "# Variance of profits from two different divisions of a company = SD^2 = SD1^2 + SD2^2\n",
    "SD = np.sqrt((9)+(16))\n",
    "print('Standard Deviation is Rs', SD*45, 'Million')"
   ]
  },
  {
   "cell_type": "markdown",
   "id": "7e844275",
   "metadata": {},
   "source": [
    "A.\tSpecify a Rupee range (centered on the mean) such that it contains 95% probability for the annual profit of the company."
   ]
  },
  {
   "cell_type": "code",
   "execution_count": 28,
   "id": "0b642c3f",
   "metadata": {},
   "outputs": [
    {
     "name": "stdout",
     "output_type": "stream",
     "text": [
      "Range is Rs (99.00810347848784, 980.9918965215122) in Millions\n"
     ]
    }
   ],
   "source": [
    "print('Range is Rs',(stats.norm.interval(0.95,540,225)),'in Millions')"
   ]
  },
  {
   "cell_type": "markdown",
   "id": "8eca5d48",
   "metadata": {},
   "source": [
    "B.\tSpecify the 5th percentile of profit (in Rupees) for the company"
   ]
  },
  {
   "cell_type": "code",
   "execution_count": 29,
   "id": "5c221cd6",
   "metadata": {},
   "outputs": [
    {
     "name": "stdout",
     "output_type": "stream",
     "text": [
      "5th percentile of profit (in Million Rupees) is 170.0\n"
     ]
    }
   ],
   "source": [
    "# To compute 5th Percentile, we use the formula X=μ + Zσ; wherein from z table, 5 percentile = -1.645\n",
    "X= 540+(-1.645)*(225)\n",
    "print('5th percentile of profit (in Million Rupees) is',np.round(X,))"
   ]
  },
  {
   "cell_type": "markdown",
   "id": "a2b69d01",
   "metadata": {},
   "source": [
    "C.\tWhich of the two divisions has a larger probability of making a loss in a given year?"
   ]
  },
  {
   "cell_type": "code",
   "execution_count": 30,
   "id": "6065056f",
   "metadata": {},
   "outputs": [
    {
     "name": "stdout",
     "output_type": "stream",
     "text": [
      "The Probability of Division #1 making a loss is 4.78 %\n",
      "The Probability of Division #2 making a loss is 4.01 %\n",
      "The Division 1 has a larger Probability of making a loss\n"
     ]
    }
   ],
   "source": [
    "# The probability of Division #1 making a loss\n",
    "print('The Probability of Division #1 making a loss is',np.round((stats.norm.cdf(0,5,3))*100,2),'%')\n",
    "\n",
    "# The probability of Division #2 making a loss\n",
    "print('The Probability of Division #2 making a loss is',np.round((stats.norm.cdf(0,7,4))*100,2),'%')\n",
    "\n",
    "Division_1 = (stats.norm.cdf(0,5,3))*100\n",
    "Division_2 = (stats.norm.cdf(0,7,4))*100\n",
    "\n",
    "if Division_1>Division_2:\n",
    "    print('The Division 1 has a larger Probability of making a loss')\n",
    "else:\n",
    "          print('The Division 2 has a larger Porbability of making a loss')"
   ]
  }
 ],
 "metadata": {
  "kernelspec": {
   "display_name": "Python 3 (ipykernel)",
   "language": "python",
   "name": "python3"
  },
  "language_info": {
   "codemirror_mode": {
    "name": "ipython",
    "version": 3
   },
   "file_extension": ".py",
   "mimetype": "text/x-python",
   "name": "python",
   "nbconvert_exporter": "python",
   "pygments_lexer": "ipython3",
   "version": "3.9.7"
  }
 },
 "nbformat": 4,
 "nbformat_minor": 5
}
